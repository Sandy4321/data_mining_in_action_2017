{
 "cells": [
  {
   "cell_type": "code",
   "execution_count": 1,
   "metadata": {},
   "outputs": [],
   "source": [
    "import numpy as np\n",
    "import scipy\n",
    "import matplotlib.pyplot as plt\n",
    "import scipy.stats\n",
    "import statsmodels\n",
    "import statsmodels.sandbox.stats.multicomp\n",
    "\n",
    "%matplotlib inline"
   ]
  },
  {
   "cell_type": "markdown",
   "metadata": {},
   "source": [
    "Сгенерируем данные с одинаковыми средними"
   ]
  },
  {
   "cell_type": "code",
   "execution_count": 2,
   "metadata": {},
   "outputs": [],
   "source": [
    "data_fst = np.random.normal(10, 10, size=100)\n",
    "data_snd = np.random.normal(10, 1, size=100)"
   ]
  },
  {
   "cell_type": "markdown",
   "metadata": {},
   "source": [
    "Если мы посмотрим на средние значения выборок, то они конечно же будут различны"
   ]
  },
  {
   "cell_type": "code",
   "execution_count": 3,
   "metadata": {},
   "outputs": [
    {
     "name": "stdout",
     "output_type": "stream",
     "text": [
      "9.99671444985\n",
      "10.0143296645\n"
     ]
    }
   ],
   "source": [
    "print data_fst.mean()\n",
    "print data_snd.mean()"
   ]
  },
  {
   "cell_type": "markdown",
   "metadata": {},
   "source": [
    "Но если средние разные, то чиселки тоже могут не сильно отличаться"
   ]
  },
  {
   "cell_type": "code",
   "execution_count": 4,
   "metadata": {},
   "outputs": [
    {
     "name": "stdout",
     "output_type": "stream",
     "text": [
      "11.3573755012\n",
      "10.1034278906\n"
     ]
    }
   ],
   "source": [
    "data_fst = np.random.normal(10.5, 10, size=100)\n",
    "data_snd = np.random.normal(10, 1, size=100)\n",
    "\n",
    "print data_fst.mean()\n",
    "print data_snd.mean()"
   ]
  },
  {
   "cell_type": "markdown",
   "metadata": {},
   "source": [
    "### - И чего?\n",
    "### - Эм, а как нам понимать, что в первом случае всё норм, а во втором выборки разные??"
   ]
  },
  {
   "cell_type": "markdown",
   "metadata": {},
   "source": [
    "# ЦПТ"
   ]
  },
  {
   "cell_type": "markdown",
   "metadata": {},
   "source": [
    "### - Можно воспользоваться ЦПТ и получить доверительный интервал на каждое значение?\n",
    "### - Ну да, если выборки достаточно большие"
   ]
  },
  {
   "cell_type": "code",
   "execution_count": 5,
   "metadata": {},
   "outputs": [
    {
     "name": "stdout",
     "output_type": "stream",
     "text": [
      "11.3573755012 2.11345550804\n",
      "10.1034278906 0.18424477085\n"
     ]
    }
   ],
   "source": [
    "print data_fst.mean(), data_fst.std() * 1.96 / np.sqrt(len(data_fst))\n",
    "print data_snd.mean(), data_snd.std() * 1.96 / np.sqrt(len(data_snd))"
   ]
  },
  {
   "cell_type": "markdown",
   "metadata": {},
   "source": [
    "### - Интервалы пересекаются, как быть? \n",
    "### - А давайте вычтем величины, посмотрим их распределение и возрадуемся!\n",
    "### - okay"
   ]
  },
  {
   "cell_type": "code",
   "execution_count": 6,
   "metadata": {},
   "outputs": [
    {
     "data": {
      "text/plain": [
       "1.253947610563463"
      ]
     },
     "execution_count": 6,
     "metadata": {},
     "output_type": "execute_result"
    }
   ],
   "source": [
    "data_fst.mean() - data_snd.mean()"
   ]
  },
  {
   "cell_type": "code",
   "execution_count": 7,
   "metadata": {},
   "outputs": [
    {
     "data": {
      "text/plain": [
       "1.1585060610936069"
      ]
     },
     "execution_count": 7,
     "metadata": {},
     "output_type": "execute_result"
    }
   ],
   "source": [
    "(data_fst.mean() - data_snd.mean()) / np.sqrt(1. * data_fst.std() ** 2 / len(data_fst) + 1. * data_snd.std() ** 2 / len(data_snd))"
   ]
  },
  {
   "cell_type": "markdown",
   "metadata": {},
   "source": [
    "# scipy tests"
   ]
  },
  {
   "cell_type": "markdown",
   "metadata": {},
   "source": [
    "### - Это сдохнуть можно всё это запоминать\n",
    "### - Знать формулы необязательно, но надо знать о их существовании и о других формулах и принципы их применения"
   ]
  },
  {
   "cell_type": "markdown",
   "metadata": {},
   "source": [
    "Вот например в scipy есть куча различных тестов, в которых уже все формулы написаны и надо просто вызвать функцию"
   ]
  },
  {
   "cell_type": "code",
   "execution_count": 8,
   "metadata": {},
   "outputs": [
    {
     "data": {
      "text/plain": [
       "Ttest_indResult(statistic=1.1526989766000135, pvalue=0.25042369783182827)"
      ]
     },
     "execution_count": 8,
     "metadata": {},
     "output_type": "execute_result"
    }
   ],
   "source": [
    "scipy.stats.ttest_ind(data_fst, data_snd)"
   ]
  },
  {
   "cell_type": "markdown",
   "metadata": {},
   "source": [
    "### - Эй, а в чём смысл pvalue?\n",
    "### - Я не могу ответить правильно, но могу отвергнуть все неправильные ответы\n",
    "### - Лол, а всё-таки, в чём?"
   ]
  },
  {
   "cell_type": "code",
   "execution_count": 9,
   "metadata": {},
   "outputs": [
    {
     "data": {
      "image/png": "[encoded data removed]",
      "text/plain": [
       "<matplotlib.figure.Figure at 0x7f353919c0d0>"
      ]
     },
     "metadata": {},
     "output_type": "display_data"
    }
   ],
   "source": [
    "pvalues = []\n",
    "for _ in xrange(10000):\n",
    "    data_fst = np.random.normal(10, 10, size=100)\n",
    "    data_snd = np.random.normal(10, 1, size=100)\n",
    "    pvalues.append(scipy.stats.ttest_ind(data_fst, data_snd).pvalue)\n",
    "    \n",
    "plt.hist(pvalues)\n",
    "plt.show()"
   ]
  },
  {
   "cell_type": "markdown",
   "metadata": {},
   "source": [
    "### - О круто, значит, если pvalue меньше 0.05, то я могу отвегнуть гипотезу и буду прав\n",
    "### - Не совсем..."
   ]
  },
  {
   "cell_type": "code",
   "execution_count": 10,
   "metadata": {},
   "outputs": [
    {
     "name": "stdout",
     "output_type": "stream",
     "text": [
      "0.0533\n"
     ]
    }
   ],
   "source": [
    "bad_pvalues = []\n",
    "for _ in xrange(10000):\n",
    "    data_fst = np.random.normal(10, 10, size=100)\n",
    "    data_snd = np.random.normal(10, 1, size=100)\n",
    "    bad_pvalues.append(scipy.stats.ttest_ind(data_fst, data_snd).pvalue < 0.05)\n",
    "    \n",
    "print np.mean(bad_pvalues)"
   ]
  },
  {
   "cell_type": "markdown",
   "metadata": {},
   "source": [
    "### - Ну ладно, иногда ошибаемся, терпимо, но значит если pvalue > 0.05, то можно принять гипотезу\n",
    "### - Меня забавляет твой оптимизм"
   ]
  },
  {
   "cell_type": "code",
   "execution_count": 11,
   "metadata": {},
   "outputs": [
    {
     "name": "stdout",
     "output_type": "stream",
     "text": [
      "0.169\n"
     ]
    },
    {
     "data": {
      "image/png": "[encoded data removed]",
      "text/plain": [
       "<matplotlib.figure.Figure at 0x7f353919cb10>"
      ]
     },
     "metadata": {},
     "output_type": "display_data"
    }
   ],
   "source": [
    "pvalues = []\n",
    "for _ in xrange(10000):\n",
    "    data_fst = np.random.normal(11, 10, size=100)\n",
    "    data_snd = np.random.normal(10, 1, size=100)\n",
    "    pvalues.append(scipy.stats.ttest_ind(data_fst, data_snd).pvalue)\n",
    "    \n",
    "print (np.array(pvalues) < 0.05).mean()\n",
    "plt.hist(pvalues)\n",
    "plt.show()"
   ]
  },
  {
   "cell_type": "code",
   "execution_count": 12,
   "metadata": {},
   "outputs": [
    {
     "name": "stdout",
     "output_type": "stream",
     "text": [
      "0.51\n"
     ]
    },
    {
     "data": {
      "image/png": "[encoded data removed]",
      "text/plain": [
       "<matplotlib.figure.Figure at 0x7f34e64078d0>"
      ]
     },
     "metadata": {},
     "output_type": "display_data"
    }
   ],
   "source": [
    "pvalues = []\n",
    "for _ in xrange(10000):\n",
    "    data_fst = np.random.normal(12, 10, size=100)\n",
    "    data_snd = np.random.normal(10, 1, size=100)\n",
    "    pvalues.append(scipy.stats.ttest_ind(data_fst, data_snd).pvalue)\n",
    "    \n",
    "print (np.array(pvalues) < 0.05).mean()\n",
    "plt.hist(pvalues)\n",
    "plt.show()"
   ]
  },
  {
   "cell_type": "markdown",
   "metadata": {},
   "source": [
    "### - всё тлен :( статистика бесполезна\n",
    "### - ну а чего ты хотел на 100 точках, ты как бы пытаешься отличить эффект от рандома, для этого надо чтобы они реально отличались, ты бы ещё по одной точке пытался определить"
   ]
  },
  {
   "cell_type": "code",
   "execution_count": 13,
   "metadata": {},
   "outputs": [
    {
     "name": "stdout",
     "output_type": "stream",
     "text": [
      "0.882\n"
     ]
    },
    {
     "data": {
      "image/png": "[encoded data removed]",
      "text/plain": [
       "<matplotlib.figure.Figure at 0x7f34e62af150>"
      ]
     },
     "metadata": {},
     "output_type": "display_data"
    }
   ],
   "source": [
    "pvalues = []\n",
    "for _ in xrange(10000):\n",
    "    data_fst = np.random.normal(11, 10, size=1000)\n",
    "    data_snd = np.random.normal(10, 1, size=1000)\n",
    "    pvalues.append(scipy.stats.ttest_ind(data_fst, data_snd).pvalue)\n",
    "    \n",
    "print (np.array(pvalues) < 0.05).mean()\n",
    "plt.hist(pvalues)\n",
    "plt.show()"
   ]
  },
  {
   "cell_type": "markdown",
   "metadata": {},
   "source": [
    "### - О, у меня идея! А давайте проверять не только средние, а ещё и кубы, они же тоже должны совпадать. Мы так больше информации получим, и если есть эффект, то с большей вероятностью его найдём. Эй, что это?\n",
    "### - Пистолет\n",
    "### - Зачем ты мне его даёшь?\n",
    "### - Ну, видимо, ты любишь стрелять себе в ноги..."
   ]
  },
  {
   "cell_type": "code",
   "execution_count": 14,
   "metadata": {},
   "outputs": [
    {
     "name": "stdout",
     "output_type": "stream",
     "text": [
      "0.0537\n",
      "0.0446\n",
      "0.0239\n",
      "0.0744\n"
     ]
    },
    {
     "data": {
      "image/png": "[encoded data removed]",
      "text/plain": [
       "<matplotlib.figure.Figure at 0x7f34e6296550>"
      ]
     },
     "metadata": {},
     "output_type": "display_data"
    },
    {
     "ename": "NameError",
     "evalue": "name 'pvalues_squared' is not defined",
     "output_type": "error",
     "traceback": [
      "\u001b[0;31m---------------------------------------------------------------------------\u001b[0m",
      "\u001b[0;31mNameError\u001b[0m                                 Traceback (most recent call last)",
      "\u001b[0;32m<ipython-input-14-2c03186c8162>\u001b[0m in \u001b[0;36m<module>\u001b[0;34m()\u001b[0m\n\u001b[1;32m     15\u001b[0m \u001b[0mplt\u001b[0m\u001b[0;34m.\u001b[0m\u001b[0mshow\u001b[0m\u001b[0;34m(\u001b[0m\u001b[0;34m)\u001b[0m\u001b[0;34m\u001b[0m\u001b[0m\n\u001b[1;32m     16\u001b[0m \u001b[0;34m\u001b[0m\u001b[0m\n\u001b[0;32m---> 17\u001b[0;31m \u001b[0mplt\u001b[0m\u001b[0;34m.\u001b[0m\u001b[0mhist\u001b[0m\u001b[0;34m(\u001b[0m\u001b[0mpvalues_squared\u001b[0m\u001b[0;34m)\u001b[0m\u001b[0;34m\u001b[0m\u001b[0m\n\u001b[0m\u001b[1;32m     18\u001b[0m \u001b[0mplt\u001b[0m\u001b[0;34m.\u001b[0m\u001b[0mshow\u001b[0m\u001b[0;34m(\u001b[0m\u001b[0;34m)\u001b[0m\u001b[0;34m\u001b[0m\u001b[0m\n",
      "\u001b[0;31mNameError\u001b[0m: name 'pvalues_squared' is not defined"
     ]
    }
   ],
   "source": [
    "pvalues_original = []\n",
    "pvalues_tripled = []\n",
    "for _ in xrange(10000):\n",
    "    data_fst = np.random.normal(0, 10, size=100)\n",
    "    data_snd = np.random.normal(0, 1, size=100)\n",
    "    pvalues_original.append(scipy.stats.ttest_ind(data_fst, data_snd).pvalue)\n",
    "    pvalues_tripled.append(scipy.stats.ttest_ind(data_fst ** 3, data_snd ** 3).pvalue)\n",
    "    \n",
    "print (np.array(pvalues_original) < 0.05).mean()\n",
    "print (np.array(pvalues_tripled) < 0.05).mean()\n",
    "print ((np.array(pvalues_original) < 0.05) & (np.array(pvalues_tripled) < 0.05)).mean()\n",
    "print ((np.array(pvalues_original) < 0.05) | (np.array(pvalues_tripled) < 0.05)).mean()\n",
    "\n",
    "plt.hist(pvalues_original)\n",
    "plt.show()\n",
    "\n",
    "plt.hist(pvalues_squared)\n",
    "plt.show()"
   ]
  },
  {
   "cell_type": "markdown",
   "metadata": {},
   "source": [
    "### - Хрень какая-то, и что делать?\n",
    "### - Множественное тестирование"
   ]
  },
  {
   "cell_type": "code",
   "execution_count": null,
   "metadata": {},
   "outputs": [],
   "source": [
    "statsmodels.sandbox.stats.multicomp.multipletests([0.05, 0.05])[1]"
   ]
  },
  {
   "cell_type": "code",
   "execution_count": null,
   "metadata": {},
   "outputs": [],
   "source": [
    "pvalues_original = []\n",
    "pvalues_tripled = []\n",
    "corrected_pvalues_original = []\n",
    "corrected_pvalues_tripled = []\n",
    "\n",
    "for _ in xrange(10000):\n",
    "    data_fst = np.random.normal(0, 10, size=100)\n",
    "    data_snd = np.random.normal(0, 1, size=100)\n",
    "    pvalue_fst = scipy.stats.ttest_ind(data_fst, data_snd).pvalue\n",
    "    pvalue_snd = scipy.stats.ttest_ind(data_fst ** 3, data_snd ** 3).pvalue\n",
    "    pvalues_original.append(pvalue_fst)\n",
    "    pvalues_tripled.append(pvalue_snd)\n",
    "    \n",
    "    corrected_pvalue_fst, corrected_pvalue_snd = statsmodels.sandbox.stats.multicomp.multipletests(\n",
    "        [pvalue_fst, pvalue_snd]\n",
    "    )[1]\n",
    "    \n",
    "    corrected_pvalues_original.append(corrected_pvalue_fst)\n",
    "    corrected_pvalues_tripled.append(corrected_pvalue_snd)\n",
    "    \n",
    "print (np.array(corrected_pvalues_original) < 0.05).mean()\n",
    "print (np.array(pvalues_tripled) < 0.05).mean()\n",
    "print ((np.array(corrected_pvalues_original) < 0.05) & (np.array(corrected_pvalues_tripled) < 0.05)).mean()\n",
    "print ((np.array(corrected_pvalues_original) < 0.05) | (np.array(corrected_pvalues_tripled) < 0.05)).mean()\n",
    "\n",
    "plt.hist(corrected_pvalues_original)\n",
    "plt.show()\n",
    "\n",
    "plt.hist(corrected_pvalues_tripled)\n",
    "plt.show()"
   ]
  },
  {
   "cell_type": "code",
   "execution_count": null,
   "metadata": {},
   "outputs": [],
   "source": []
  },
  {
   "cell_type": "markdown",
   "metadata": {},
   "source": [
    "### - А если стандартные тесты не работают, не всегда же можно формулку посчитать. Например, если не среднее хочется, а сумму. Что на это скажешь?\n",
    "### - Есть ещё парочка подходов"
   ]
  },
  {
   "cell_type": "markdown",
   "metadata": {},
   "source": [
    "# Перестановочные тесты"
   ]
  },
  {
   "cell_type": "code",
   "execution_count": null,
   "metadata": {},
   "outputs": [],
   "source": [
    "data_fst = np.random.normal(0, 10, size=100)\n",
    "data_snd = np.random.normal(0, 1, size=100)\n",
    "\n",
    "print scipy.stats.ttest_ind(data_fst, data_snd).pvalue\n",
    "\n",
    "data = np.array(list(data_fst) + list(data_snd))\n",
    "size = len(data)\n",
    "values = []\n",
    "for _ in xrange(10000):\n",
    "    mask = (np.random.random(size=size) > 0.5)\n",
    "    values.append(data[mask].mean() - data[~mask].mean())\n",
    "\n",
    "plt.hist(values, bins=30)\n",
    "plt.show()\n",
    "\n",
    "print (np.abs(np.array(values)) > np.abs(data_fst.mean() - data_snd.mean())).mean()"
   ]
  },
  {
   "cell_type": "code",
   "execution_count": null,
   "metadata": {},
   "outputs": [],
   "source": [
    "data_fst = np.random.normal(0, 10, size=100)\n",
    "data_snd = np.random.normal(0, 1, size=100)\n",
    "\n",
    "print scipy.stats.ttest_ind(data_fst, data_snd).pvalue\n",
    "\n",
    "data = np.array(list(data_fst) + list(data_snd))\n",
    "size = len(data)\n",
    "values = []\n",
    "for _ in xrange(10000):\n",
    "    mask = (np.random.random(size=size) > 0.5)\n",
    "    values.append(data[mask].mean() - data[~mask].mean())\n",
    "\n",
    "plt.hist(values, bins=30)\n",
    "plt.show()\n",
    "\n",
    "print (np.abs(np.array(values)) > np.abs(data_fst.mean() - data_snd.mean())).mean()"
   ]
  },
  {
   "cell_type": "markdown",
   "metadata": {},
   "source": [
    "# Bootstap"
   ]
  },
  {
   "cell_type": "code",
   "execution_count": null,
   "metadata": {},
   "outputs": [],
   "source": [
    "data_fst = np.random.normal(0, 10, size=100)\n",
    "data_snd = np.random.normal(0, 1, size=100)\n",
    "\n",
    "print scipy.stats.ttest_ind(data_fst, data_snd).pvalue\n",
    "\n",
    "values = []\n",
    "for _ in xrange(10000):\n",
    "    values.append(\n",
    "        np.random.choice(data_fst, replace=True, size=len(data_fst)).mean()\n",
    "        -\n",
    "        np.random.choice(data_snd, replace=True, size=len(data_snd)).mean()\n",
    "    )\n",
    "\n",
    "plt.hist(values, bins=30)\n",
    "plt.show()\n",
    "\n",
    "print np.percentile(values, [2.5, 97.5])"
   ]
  },
  {
   "cell_type": "code",
   "execution_count": null,
   "metadata": {},
   "outputs": [],
   "source": [
    "data_fst = np.random.normal(2, 10, size=100)\n",
    "data_snd = np.random.normal(0, 1, size=100)\n",
    "\n",
    "print scipy.stats.ttest_ind(data_fst, data_snd).pvalue\n",
    "\n",
    "values = []\n",
    "for _ in xrange(10000):\n",
    "    values.append(\n",
    "        np.random.choice(data_fst, replace=True, size=len(data_fst)).mean()\n",
    "        -\n",
    "        np.random.choice(data_snd, replace=True, size=len(data_snd)).mean()\n",
    "    )\n",
    "\n",
    "plt.hist(values, bins=30)\n",
    "plt.show()\n",
    "\n",
    "print np.percentile(values, [2.5, 97.5])"
   ]
  },
  {
   "cell_type": "code",
   "execution_count": null,
   "metadata": {},
   "outputs": [],
   "source": [
    "data_fst = np.random.normal(2, 10, size=10000)\n",
    "data_snd = np.random.normal(0, 1, size=10000)\n",
    "\n",
    "print scipy.stats.ttest_ind(data_fst, data_snd).pvalue\n",
    "\n",
    "values = []\n",
    "for _ in xrange(10000):\n",
    "    values.append(\n",
    "        np.random.choice(data_fst, replace=True, size=len(data_fst)).mean()\n",
    "        -\n",
    "        np.random.choice(data_snd, replace=True, size=len(data_snd)).mean()\n",
    "    )\n",
    "\n",
    "plt.hist(values, bins=30)\n",
    "plt.show()\n",
    "\n",
    "print np.percentile(values, [2.5, 97.5])"
   ]
  }
 ],
 "metadata": {
  "kernelspec": {
   "display_name": "Python 2",
   "language": "python",
   "name": "python2"
  },
  "language_info": {
   "codemirror_mode": {
    "name": "ipython",
    "version": 2
   },
   "file_extension": ".py",
   "mimetype": "text/x-python",
   "name": "python",
   "nbconvert_exporter": "python",
   "pygments_lexer": "ipython2",
   "version": "2.7.6"
  }
 },
 "nbformat": 4,
 "nbformat_minor": 2
}
